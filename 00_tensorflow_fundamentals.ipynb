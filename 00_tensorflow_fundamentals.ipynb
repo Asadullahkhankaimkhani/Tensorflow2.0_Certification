{
  "nbformat": 4,
  "nbformat_minor": 0,
  "metadata": {
    "colab": {
      "name": "00_tensorflow_fundamentals.ipynb",
      "provenance": [],
      "authorship_tag": "ABX9TyNWw7QfPqjTLMa0Fjh05Ofv",
      "include_colab_link": true
    },
    "kernelspec": {
      "name": "python3",
      "display_name": "Python 3"
    },
    "language_info": {
      "name": "python"
    }
  },
  "cells": [
    {
      "cell_type": "markdown",
      "metadata": {
        "id": "view-in-github",
        "colab_type": "text"
      },
      "source": [
        "<a href=\"https://colab.research.google.com/github/Asadullahkhankaimkhani/Tensorflow2.0_Certification/blob/master/00_tensorflow_fundamentals.ipynb\" target=\"_parent\"><img src=\"https://colab.research.google.com/assets/colab-badge.svg\" alt=\"Open In Colab\"/></a>"
      ]
    },
    {
      "cell_type": "markdown",
      "metadata": {
        "id": "fhavYU9wRzDI"
      },
      "source": [
        "# In this notebook we're going to cover some of the most fundamental concepts of tensors using tensorflow\n",
        "\n",
        "More specifically , we're going to cover:\n",
        "* Introduction to tensors\n",
        "* Getting information from tensors\n",
        "* Manipulating tensors\n",
        "* Tensors & Numpy\n",
        "* Using @tf.function(a way to speed up your regular python functions)\n",
        "* Using GPUs with TensorFlow (or TPUs)\n",
        "* Excerise to try for yourself\n"
      ]
    },
    {
      "cell_type": "markdown",
      "metadata": {
        "id": "8G5Yv-tPSpGK"
      },
      "source": [
        "## Introducation to Tensors"
      ]
    },
    {
      "cell_type": "code",
      "metadata": {
        "colab": {
          "base_uri": "https://localhost:8080/"
        },
        "id": "Fhaj5bUHSNqD",
        "outputId": "bcc43856-cc11-4b01-f5c7-f80a8e902f49"
      },
      "source": [
        "#Import TensorFlow\n",
        "import tensorflow as tf\n",
        "print(tf.__version__)"
      ],
      "execution_count": 3,
      "outputs": [
        {
          "output_type": "stream",
          "text": [
            "2.5.0\n"
          ],
          "name": "stdout"
        }
      ]
    },
    {
      "cell_type": "code",
      "metadata": {
        "colab": {
          "base_uri": "https://localhost:8080/"
        },
        "id": "x85qnundSKvw",
        "outputId": "df810bb7-0e5a-4557-9126-7521acac899b"
      },
      "source": [
        "#create tensor with tf.constant()\n",
        "scalar = tf.constant(7)\n",
        "scalar"
      ],
      "execution_count": null,
      "outputs": [
        {
          "output_type": "execute_result",
          "data": {
            "text/plain": [
              "<tf.Tensor: shape=(), dtype=int32, numpy=7>"
            ]
          },
          "metadata": {
            "tags": []
          },
          "execution_count": 10
        }
      ]
    },
    {
      "cell_type": "code",
      "metadata": {
        "colab": {
          "base_uri": "https://localhost:8080/"
        },
        "id": "h9CGHhkBUVgU",
        "outputId": "f605db75-a9db-4f60-c25f-17f4c1ca0e06"
      },
      "source": [
        "#check the number of dimensions of a tensor (ndim stands for number of dimensions)\n",
        "scalar.ndim"
      ],
      "execution_count": null,
      "outputs": [
        {
          "output_type": "execute_result",
          "data": {
            "text/plain": [
              "0"
            ]
          },
          "metadata": {
            "tags": []
          },
          "execution_count": 11
        }
      ]
    },
    {
      "cell_type": "code",
      "metadata": {
        "colab": {
          "base_uri": "https://localhost:8080/"
        },
        "id": "KzWtXkEfUlEY",
        "outputId": "51ce75d9-fd5f-427a-aee2-d5dc06a9f878"
      },
      "source": [
        "#create a vector\n",
        "vector = tf.constant([10,10])\n",
        "vector"
      ],
      "execution_count": null,
      "outputs": [
        {
          "output_type": "execute_result",
          "data": {
            "text/plain": [
              "<tf.Tensor: shape=(2,), dtype=int32, numpy=array([10, 10], dtype=int32)>"
            ]
          },
          "metadata": {
            "tags": []
          },
          "execution_count": 12
        }
      ]
    },
    {
      "cell_type": "code",
      "metadata": {
        "colab": {
          "base_uri": "https://localhost:8080/"
        },
        "id": "_1fRT1blUv5R",
        "outputId": "56ce39c2-c57c-4efa-a483-87093b301963"
      },
      "source": [
        "#check dimension of our vector\n",
        "vector.ndim"
      ],
      "execution_count": null,
      "outputs": [
        {
          "output_type": "execute_result",
          "data": {
            "text/plain": [
              "1"
            ]
          },
          "metadata": {
            "tags": []
          },
          "execution_count": 13
        }
      ]
    },
    {
      "cell_type": "code",
      "metadata": {
        "colab": {
          "base_uri": "https://localhost:8080/"
        },
        "id": "2y6HYG_LU8jq",
        "outputId": "50d97278-b00d-498d-995a-5a5d3eb0b140"
      },
      "source": [
        "#create a matrix (has more than 1 dimension)\n",
        "matrix = tf.constant([[10,7],\n",
        "                     [20,11]])\n",
        "matrix"
      ],
      "execution_count": null,
      "outputs": [
        {
          "output_type": "execute_result",
          "data": {
            "text/plain": [
              "<tf.Tensor: shape=(2, 2), dtype=int32, numpy=\n",
              "array([[10,  7],\n",
              "       [20, 11]], dtype=int32)>"
            ]
          },
          "metadata": {
            "tags": []
          },
          "execution_count": 15
        }
      ]
    },
    {
      "cell_type": "code",
      "metadata": {
        "colab": {
          "base_uri": "https://localhost:8080/"
        },
        "id": "55vRE-QIVVFv",
        "outputId": "3086a6ea-5862-40bd-e68f-8c6a4f16c123"
      },
      "source": [
        "#check dimension of matrix \n",
        "matrix.ndim"
      ],
      "execution_count": null,
      "outputs": [
        {
          "output_type": "execute_result",
          "data": {
            "text/plain": [
              "2"
            ]
          },
          "metadata": {
            "tags": []
          },
          "execution_count": 16
        }
      ]
    },
    {
      "cell_type": "code",
      "metadata": {
        "colab": {
          "base_uri": "https://localhost:8080/"
        },
        "id": "lhel10y3VcCr",
        "outputId": "a0ce6e3e-338e-40fc-f95e-dcc784e401a8"
      },
      "source": [
        "#create another matrix \n",
        "another_matrix = tf.constant([[10,5],\n",
        "                              [2.,2.],\n",
        "                              [8.,9.]],dtype=tf.float16) #specify the data type with \n",
        "another_matrix"
      ],
      "execution_count": null,
      "outputs": [
        {
          "output_type": "execute_result",
          "data": {
            "text/plain": [
              "<tf.Tensor: shape=(3, 2), dtype=float16, numpy=\n",
              "array([[10.,  5.],\n",
              "       [ 2.,  2.],\n",
              "       [ 8.,  9.]], dtype=float16)>"
            ]
          },
          "metadata": {
            "tags": []
          },
          "execution_count": 17
        }
      ]
    },
    {
      "cell_type": "code",
      "metadata": {
        "colab": {
          "base_uri": "https://localhost:8080/"
        },
        "id": "t12La9N6VQJ2",
        "outputId": "43617fb8-4a7d-46b8-9fa2-dba7c11e96ab"
      },
      "source": [
        "another_matrix.ndim"
      ],
      "execution_count": null,
      "outputs": [
        {
          "output_type": "execute_result",
          "data": {
            "text/plain": [
              "2"
            ]
          },
          "metadata": {
            "tags": []
          },
          "execution_count": 18
        }
      ]
    },
    {
      "cell_type": "code",
      "metadata": {
        "colab": {
          "base_uri": "https://localhost:8080/"
        },
        "id": "ChyH-rZiWciu",
        "outputId": "3817af15-3064-4b36-dadb-72784133b6c8"
      },
      "source": [
        "#let create a tensor \n",
        "tensor = tf.constant([[[1,2,3],\n",
        "                     [4,5,6]],\n",
        "                      [[7,8,9],\n",
        "                     [10,11,12],],\n",
        "                     [[13,14,15],\n",
        "                     [16,17,18]]])\n",
        "tensor"
      ],
      "execution_count": null,
      "outputs": [
        {
          "output_type": "execute_result",
          "data": {
            "text/plain": [
              "<tf.Tensor: shape=(3, 2, 3), dtype=int32, numpy=\n",
              "array([[[ 1,  2,  3],\n",
              "        [ 4,  5,  6]],\n",
              "\n",
              "       [[ 7,  8,  9],\n",
              "        [10, 11, 12]],\n",
              "\n",
              "       [[13, 14, 15],\n",
              "        [16, 17, 18]]], dtype=int32)>"
            ]
          },
          "metadata": {
            "tags": []
          },
          "execution_count": 23
        }
      ]
    },
    {
      "cell_type": "code",
      "metadata": {
        "colab": {
          "base_uri": "https://localhost:8080/"
        },
        "id": "qARcMl5bXgCP",
        "outputId": "da392e9a-9cd4-4df2-d07f-3ee91066e9e7"
      },
      "source": [
        "tensor.ndim"
      ],
      "execution_count": null,
      "outputs": [
        {
          "output_type": "execute_result",
          "data": {
            "text/plain": [
              "3"
            ]
          },
          "metadata": {
            "tags": []
          },
          "execution_count": 24
        }
      ]
    },
    {
      "cell_type": "markdown",
      "metadata": {
        "id": "5jxLYSe6YtES"
      },
      "source": [
        "### what we've created so far\n",
        " * Scalar : a single number\n",
        " * Vector : a number with direction (e.g wind speed and direction)\n",
        " * Matrix : a 2-dimensional array of number\n",
        " * Tensor : an n-dimensional array of number (when n can be any number)"
      ]
    },
    {
      "cell_type": "markdown",
      "metadata": {
        "id": "lTFNXHlqZU_P"
      },
      "source": [
        "#Create Tf.varaiable"
      ]
    },
    {
      "cell_type": "code",
      "metadata": {
        "colab": {
          "base_uri": "https://localhost:8080/"
        },
        "id": "V-J8vWfVaueG",
        "outputId": "069b8f07-74d1-40a3-d420-232c0a04c1e9"
      },
      "source": [
        "# create same tensor with tf.varaiable() as above\n",
        "changeable_tensor = tf.Variable([10,7])\n",
        "unchangeable_tensor = tf.constant([10,7])\n",
        "\n",
        "unchangeable_tensor,changeable_tensor"
      ],
      "execution_count": 6,
      "outputs": [
        {
          "output_type": "execute_result",
          "data": {
            "text/plain": [
              "(<tf.Tensor: shape=(2,), dtype=int32, numpy=array([10,  7], dtype=int32)>,\n",
              " <tf.Variable 'Variable:0' shape=(2,) dtype=int32, numpy=array([10,  7], dtype=int32)>)"
            ]
          },
          "metadata": {
            "tags": []
          },
          "execution_count": 6
        }
      ]
    },
    {
      "cell_type": "code",
      "metadata": {
        "colab": {
          "base_uri": "https://localhost:8080/"
        },
        "id": "6AmXq3A4bo6R",
        "outputId": "b2c814cd-84d7-4956-a202-d699f2c97c2f"
      },
      "source": [
        "#change try change one of the elements in our changeable tensor\n",
        "changeable_tensor[0].assign( 7)\n"
      ],
      "execution_count": 10,
      "outputs": [
        {
          "output_type": "execute_result",
          "data": {
            "text/plain": [
              "<tf.Variable 'UnreadVariable' shape=(2,) dtype=int32, numpy=array([7, 7], dtype=int32)>"
            ]
          },
          "metadata": {
            "tags": []
          },
          "execution_count": 10
        }
      ]
    },
    {
      "cell_type": "markdown",
      "metadata": {
        "id": "G6eTcvKQcH4f"
      },
      "source": [
        "###Create Random Tensor"
      ]
    },
    {
      "cell_type": "code",
      "metadata": {
        "id": "oFjmbw1-eWJM"
      },
      "source": [
        "##random tensors are of some abitrary size conatain random numbers"
      ],
      "execution_count": 13,
      "outputs": []
    },
    {
      "cell_type": "code",
      "metadata": {
        "colab": {
          "base_uri": "https://localhost:8080/"
        },
        "id": "l6csr8jgfA7M",
        "outputId": "99dadada-2560-49d5-a7c0-f99d9c285ae3"
      },
      "source": [
        "#create two random (but the same ) tensor\n",
        "random_1 = tf.random.Generator.from_seed(42) # set of seed for reproducibility\n",
        "random_1 = random_1.normal(shape=(3,2,3))\n",
        "\n",
        "random_2 = tf.random.Generator.from_seed(42)\n",
        "random_2 = random_2.normal(shape=(3,2,3))\n",
        "\n",
        "random_1,random_2 , random_1 == random_2"
      ],
      "execution_count": 20,
      "outputs": [
        {
          "output_type": "execute_result",
          "data": {
            "text/plain": [
              "(<tf.Tensor: shape=(3, 2, 3), dtype=float32, numpy=\n",
              " array([[[-0.7565803 , -0.06854702,  0.07595026],\n",
              "         [-1.2573844 , -0.23193763, -1.8107855 ]],\n",
              " \n",
              "        [[ 0.09988727, -0.50998646, -0.7535805 ],\n",
              "         [-0.57166284,  0.1480774 , -0.23362993]],\n",
              " \n",
              "        [[-0.3522796 ,  0.40621263, -1.0523509 ],\n",
              "         [ 1.2054597 ,  1.6874489 , -0.4462975 ]]], dtype=float32)>,\n",
              " <tf.Tensor: shape=(3, 2, 3), dtype=float32, numpy=\n",
              " array([[[-0.7565803 , -0.06854702,  0.07595026],\n",
              "         [-1.2573844 , -0.23193763, -1.8107855 ]],\n",
              " \n",
              "        [[ 0.09988727, -0.50998646, -0.7535805 ],\n",
              "         [-0.57166284,  0.1480774 , -0.23362993]],\n",
              " \n",
              "        [[-0.3522796 ,  0.40621263, -1.0523509 ],\n",
              "         [ 1.2054597 ,  1.6874489 , -0.4462975 ]]], dtype=float32)>,\n",
              " <tf.Tensor: shape=(3, 2, 3), dtype=bool, numpy=\n",
              " array([[[ True,  True,  True],\n",
              "         [ True,  True,  True]],\n",
              " \n",
              "        [[ True,  True,  True],\n",
              "         [ True,  True,  True]],\n",
              " \n",
              "        [[ True,  True,  True],\n",
              "         [ True,  True,  True]]])>)"
            ]
          },
          "metadata": {
            "tags": []
          },
          "execution_count": 20
        }
      ]
    },
    {
      "cell_type": "markdown",
      "metadata": {
        "id": "YJbjA92sgVme"
      },
      "source": [
        "##Shuffle the order of elemets in a tensor"
      ]
    },
    {
      "cell_type": "code",
      "metadata": {
        "colab": {
          "base_uri": "https://localhost:8080/"
        },
        "id": "7hPHe7ibiJRg",
        "outputId": "3d8049e8-4ff3-4a66-b080-3e87b9a10225"
      },
      "source": [
        "## Shuffle a tensor (valuable for when you want to shuffle your data so the inherent order doesnt effect learning  )\n",
        "not_shuffled = tf.constant([[10,7],\n",
        "                            [3,4],\n",
        "                            [12,133]])\n",
        "## shuffle our non-shuffled tensor\n",
        "tf.random.shuffle(not_shuffled)"
      ],
      "execution_count": 27,
      "outputs": [
        {
          "output_type": "execute_result",
          "data": {
            "text/plain": [
              "<tf.Tensor: shape=(3, 2), dtype=int32, numpy=\n",
              "array([[ 12, 133],\n",
              "       [ 10,   7],\n",
              "       [  3,   4]], dtype=int32)>"
            ]
          },
          "metadata": {
            "tags": []
          },
          "execution_count": 27
        }
      ]
    },
    {
      "cell_type": "code",
      "metadata": {
        "colab": {
          "base_uri": "https://localhost:8080/"
        },
        "id": "2B64_o-niLrv",
        "outputId": "53818b88-34df-46c0-f8e0-89fd9869ed7d"
      },
      "source": [
        "tf.random.set_seed(42)\n",
        "tf.random.shuffle(not_shuffled, seed=42)"
      ],
      "execution_count": 36,
      "outputs": [
        {
          "output_type": "execute_result",
          "data": {
            "text/plain": [
              "<tf.Tensor: shape=(3, 2), dtype=int32, numpy=\n",
              "array([[ 10,   7],\n",
              "       [  3,   4],\n",
              "       [ 12, 133]], dtype=int32)>"
            ]
          },
          "metadata": {
            "tags": []
          },
          "execution_count": 36
        }
      ]
    },
    {
      "cell_type": "markdown",
      "metadata": {
        "id": "lp5vFn6kiPDu"
      },
      "source": [
        "##Others ways to make tensors"
      ]
    },
    {
      "cell_type": "code",
      "metadata": {
        "colab": {
          "base_uri": "https://localhost:8080/"
        },
        "id": "H0V8s-KLiHcx",
        "outputId": "34cd9134-5b37-4a0a-b18d-7e178e621f81"
      },
      "source": [
        "## create a tensor of all ones \n",
        "tf.ones([2,3],tf.int32)"
      ],
      "execution_count": 42,
      "outputs": [
        {
          "output_type": "execute_result",
          "data": {
            "text/plain": [
              "<tf.Tensor: shape=(2, 3), dtype=int32, numpy=\n",
              "array([[1, 1, 1],\n",
              "       [1, 1, 1]], dtype=int32)>"
            ]
          },
          "metadata": {
            "tags": []
          },
          "execution_count": 42
        }
      ]
    },
    {
      "cell_type": "code",
      "metadata": {
        "colab": {
          "base_uri": "https://localhost:8080/"
        },
        "id": "RMKvbRrvoUNN",
        "outputId": "4c5b0fa1-bb56-462a-ab41-5767caa50b74"
      },
      "source": [
        "#create a tensor of all zeros\n",
        "tf.zeros([3,11],tf.int32)"
      ],
      "execution_count": 48,
      "outputs": [
        {
          "output_type": "execute_result",
          "data": {
            "text/plain": [
              "<tf.Tensor: shape=(3, 11), dtype=int32, numpy=\n",
              "array([[0, 0, 0, 0, 0, 0, 0, 0, 0, 0, 0],\n",
              "       [0, 0, 0, 0, 0, 0, 0, 0, 0, 0, 0],\n",
              "       [0, 0, 0, 0, 0, 0, 0, 0, 0, 0, 0]], dtype=int32)>"
            ]
          },
          "metadata": {
            "tags": []
          },
          "execution_count": 48
        }
      ]
    },
    {
      "cell_type": "code",
      "metadata": {
        "colab": {
          "base_uri": "https://localhost:8080/"
        },
        "id": "VIKNh4nUogER",
        "outputId": "a1f4327a-0d2c-436e-a99a-b2ef9a287ea5"
      },
      "source": [
        "#the main differnce between Numpy arrays and tensorflow tenors is that\n",
        "# tensors can be run on a GPU (much faster for numerical computing)\n",
        "import numpy as np\n",
        "numpy_A =  np.arange(1,25, dtype=np.int32)\n",
        "numpy_A\n",
        "\n",
        "# you can also turn Numpy arrays into tensors \n"
      ],
      "execution_count": 50,
      "outputs": [
        {
          "output_type": "execute_result",
          "data": {
            "text/plain": [
              "array([ 1,  2,  3,  4,  5,  6,  7,  8,  9, 10, 11, 12, 13, 14, 15, 16, 17,\n",
              "       18, 19, 20, 21, 22, 23, 24], dtype=int32)"
            ]
          },
          "metadata": {
            "tags": []
          },
          "execution_count": 50
        }
      ]
    },
    {
      "cell_type": "code",
      "metadata": {
        "colab": {
          "base_uri": "https://localhost:8080/"
        },
        "id": "_47x2h-op4WQ",
        "outputId": "a05ad0af-53a1-4860-d1df-8c1bda4f56c6"
      },
      "source": [
        "A = tf.constant(numpy_A, shape=(2,3,4,))\n",
        "A"
      ],
      "execution_count": 61,
      "outputs": [
        {
          "output_type": "execute_result",
          "data": {
            "text/plain": [
              "<tf.Tensor: shape=(2, 3, 4), dtype=int32, numpy=\n",
              "array([[[ 1,  2,  3,  4],\n",
              "        [ 5,  6,  7,  8],\n",
              "        [ 9, 10, 11, 12]],\n",
              "\n",
              "       [[13, 14, 15, 16],\n",
              "        [17, 18, 19, 20],\n",
              "        [21, 22, 23, 24]]], dtype=int32)>"
            ]
          },
          "metadata": {
            "tags": []
          },
          "execution_count": 61
        }
      ]
    },
    {
      "cell_type": "markdown",
      "metadata": {
        "id": "mh5VAIGErCBw"
      },
      "source": [
        "### Getting information from tensor\n",
        "\n",
        "*   Shape\n",
        "*   Rank\n",
        "*   Axis or dimension\n",
        "*   Size\n",
        "\n"
      ]
    },
    {
      "cell_type": "code",
      "metadata": {
        "colab": {
          "base_uri": "https://localhost:8080/"
        },
        "id": "jqSC0FQrsmNV",
        "outputId": "6182ef8b-0345-49ba-e8b3-36e7d8aad6af"
      },
      "source": [
        "# Create a rank 4 tensor (4 dimensions)\n",
        "rank_4_tensor = tf.zeros([2,3,4,5])\n",
        "rank_4_tensor,rank_4_tensor.ndim ,rank_4_tensor.shape"
      ],
      "execution_count": 90,
      "outputs": [
        {
          "output_type": "execute_result",
          "data": {
            "text/plain": [
              "(<tf.Tensor: shape=(2, 3, 4, 5), dtype=float32, numpy=\n",
              " array([[[[0., 0., 0., 0., 0.],\n",
              "          [0., 0., 0., 0., 0.],\n",
              "          [0., 0., 0., 0., 0.],\n",
              "          [0., 0., 0., 0., 0.]],\n",
              " \n",
              "         [[0., 0., 0., 0., 0.],\n",
              "          [0., 0., 0., 0., 0.],\n",
              "          [0., 0., 0., 0., 0.],\n",
              "          [0., 0., 0., 0., 0.]],\n",
              " \n",
              "         [[0., 0., 0., 0., 0.],\n",
              "          [0., 0., 0., 0., 0.],\n",
              "          [0., 0., 0., 0., 0.],\n",
              "          [0., 0., 0., 0., 0.]]],\n",
              " \n",
              " \n",
              "        [[[0., 0., 0., 0., 0.],\n",
              "          [0., 0., 0., 0., 0.],\n",
              "          [0., 0., 0., 0., 0.],\n",
              "          [0., 0., 0., 0., 0.]],\n",
              " \n",
              "         [[0., 0., 0., 0., 0.],\n",
              "          [0., 0., 0., 0., 0.],\n",
              "          [0., 0., 0., 0., 0.],\n",
              "          [0., 0., 0., 0., 0.]],\n",
              " \n",
              "         [[0., 0., 0., 0., 0.],\n",
              "          [0., 0., 0., 0., 0.],\n",
              "          [0., 0., 0., 0., 0.],\n",
              "          [0., 0., 0., 0., 0.]]]], dtype=float32)>,\n",
              " 4,\n",
              " TensorShape([2, 3, 4, 5]))"
            ]
          },
          "metadata": {
            "tags": []
          },
          "execution_count": 90
        }
      ]
    },
    {
      "cell_type": "code",
      "metadata": {
        "colab": {
          "base_uri": "https://localhost:8080/"
        },
        "id": "LHuAGQgGvR4e",
        "outputId": "edcb1d01-5ca1-47e6-8658-7ade972c4792"
      },
      "source": [
        "#Get various attributes of our tensor \n",
        "\n",
        "print('Datatype of every element:',rank_4_tensor.dtype)\n",
        "print('Number of Dimension:',rank_4_tensor.ndim)\n",
        "print('Shape of tensor:',rank_4_tensor.shape)\n",
        "print('Elements along the 0 axis:',rank_4_tensor.shape[0])\n",
        "print('Elements along the last axis',rank_4_tensor.shape[-1])\n",
        "print('Total number of element in out tensor',tf.size(rank_4_tensor))\n",
        "print('Total number of element in out tensor',tf.size(rank_4_tensor).numpy())"
      ],
      "execution_count": 91,
      "outputs": [
        {
          "output_type": "stream",
          "text": [
            "Datatype of every element: <dtype: 'float32'>\n",
            "Number of Dimension: 4\n",
            "Shape of tensor: (2, 3, 4, 5)\n",
            "Elements along the 0 axis: 2\n",
            "Elements along the last axis 5\n",
            "Total number of element in out tensor tf.Tensor(120, shape=(), dtype=int32)\n",
            "Total number of element in out tensor 120\n"
          ],
          "name": "stdout"
        }
      ]
    },
    {
      "cell_type": "markdown",
      "metadata": {
        "id": "Gby-jQAnxKkt"
      },
      "source": [
        "#Indexing tensors\n",
        "\n",
        "###tensors can be indexed just like python lists"
      ]
    },
    {
      "cell_type": "code",
      "metadata": {
        "colab": {
          "base_uri": "https://localhost:8080/"
        },
        "id": "9opPToEDxabV",
        "outputId": "8e0b4f06-c593-4f2b-a755-4e845749654c"
      },
      "source": [
        "## Get the first 2 elements of each dimension\n",
        "rank_4_tensor[:2,:2,:2,:2]"
      ],
      "execution_count": 92,
      "outputs": [
        {
          "output_type": "execute_result",
          "data": {
            "text/plain": [
              "<tf.Tensor: shape=(2, 2, 2, 2), dtype=float32, numpy=\n",
              "array([[[[0., 0.],\n",
              "         [0., 0.]],\n",
              "\n",
              "        [[0., 0.],\n",
              "         [0., 0.]]],\n",
              "\n",
              "\n",
              "       [[[0., 0.],\n",
              "         [0., 0.]],\n",
              "\n",
              "        [[0., 0.],\n",
              "         [0., 0.]]]], dtype=float32)>"
            ]
          },
          "metadata": {
            "tags": []
          },
          "execution_count": 92
        }
      ]
    },
    {
      "cell_type": "code",
      "metadata": {
        "colab": {
          "base_uri": "https://localhost:8080/"
        },
        "id": "Qvy8BBe3yAYU",
        "outputId": "e82f731b-f7ce-49d5-aa13-3307d6ed0272"
      },
      "source": [
        "rank_4_tensor[:1,:1,:1]"
      ],
      "execution_count": 101,
      "outputs": [
        {
          "output_type": "execute_result",
          "data": {
            "text/plain": [
              "<tf.Tensor: shape=(1, 1, 1, 5), dtype=float32, numpy=array([[[[0., 0., 0., 0., 0.]]]], dtype=float32)>"
            ]
          },
          "metadata": {
            "tags": []
          },
          "execution_count": 101
        }
      ]
    },
    {
      "cell_type": "code",
      "metadata": {
        "colab": {
          "base_uri": "https://localhost:8080/"
        },
        "id": "lRk5dK-V0BmN",
        "outputId": "0d7d93d7-89cf-4e56-f117-256b7a01e41b"
      },
      "source": [
        "## Create a rank 2 tensor(2 dimension)\n",
        "rank_2_tensor = tf.constant([[2,3],\n",
        "                             [4,5]])\n",
        "rank_2_tensor"
      ],
      "execution_count": 106,
      "outputs": [
        {
          "output_type": "execute_result",
          "data": {
            "text/plain": [
              "<tf.Tensor: shape=(2, 2), dtype=int32, numpy=\n",
              "array([[2, 3],\n",
              "       [4, 5]], dtype=int32)>"
            ]
          },
          "metadata": {
            "tags": []
          },
          "execution_count": 106
        }
      ]
    },
    {
      "cell_type": "code",
      "metadata": {
        "colab": {
          "base_uri": "https://localhost:8080/"
        },
        "id": "Ajii6nyL0buJ",
        "outputId": "c12b01d8-0a2e-4778-851d-22ada21f4fcc"
      },
      "source": [
        "## Get the last item of each of of our rank 2 tensor\n",
        "rank_2_tensor[:,1]"
      ],
      "execution_count": 127,
      "outputs": [
        {
          "output_type": "execute_result",
          "data": {
            "text/plain": [
              "<tf.Tensor: shape=(2,), dtype=int32, numpy=array([3, 5], dtype=int32)>"
            ]
          },
          "metadata": {
            "tags": []
          },
          "execution_count": 127
        }
      ]
    },
    {
      "cell_type": "code",
      "metadata": {
        "colab": {
          "base_uri": "https://localhost:8080/"
        },
        "id": "JGWeDdV70RxG",
        "outputId": "7cc44787-8ed5-45c4-ed5f-52886ce7cc3a"
      },
      "source": [
        "# Add in extra dimension to our rank 2 tensor \n",
        "rank_3_tensor = rank_2_tensor[...,tf.newaxis]\n",
        "rank_3_tensor"
      ],
      "execution_count": 130,
      "outputs": [
        {
          "output_type": "execute_result",
          "data": {
            "text/plain": [
              "<tf.Tensor: shape=(2, 2, 1), dtype=int32, numpy=\n",
              "array([[[2],\n",
              "        [3]],\n",
              "\n",
              "       [[4],\n",
              "        [5]]], dtype=int32)>"
            ]
          },
          "metadata": {
            "tags": []
          },
          "execution_count": 130
        }
      ]
    },
    {
      "cell_type": "code",
      "metadata": {
        "colab": {
          "base_uri": "https://localhost:8080/"
        },
        "id": "u7SStjBk2tik",
        "outputId": "3b430ff5-4eb0-4562-d856-2428f6d8b8c4"
      },
      "source": [
        "## Alternante to tf.newaxis\n",
        "tf.expand_dims(rank_2_tensor,axis=-1)"
      ],
      "execution_count": 132,
      "outputs": [
        {
          "output_type": "execute_result",
          "data": {
            "text/plain": [
              "<tf.Tensor: shape=(2, 2, 1), dtype=int32, numpy=\n",
              "array([[[2],\n",
              "        [3]],\n",
              "\n",
              "       [[4],\n",
              "        [5]]], dtype=int32)>"
            ]
          },
          "metadata": {
            "tags": []
          },
          "execution_count": 132
        }
      ]
    }
  ]
}